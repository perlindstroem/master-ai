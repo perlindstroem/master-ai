{
 "cells": [
  {
   "cell_type": "markdown",
   "metadata": {},
   "source": [
    "# L3: Topic Models\n",
    "### 732A92/TDDE16 Text Mining\n",
    "Måns Magnusson"
   ]
  },
  {
   "cell_type": "markdown",
   "metadata": {},
   "source": [
    "The purpose of this lab is to implement the standard Gibbs sampling algorithm for Latent Dirichlet Allocation in Python. You will be supplied starter code, a smaller corpus with State of the Union addresses for the period 1975 to 2000 by paragraph and a list with English stop words. The code is implemented as a class, `LDAGibbs`, where you are expected to replace central parts of the code with your own implementations."
   ]
  },
  {
   "cell_type": "markdown",
   "metadata": {},
   "source": [
    "### 1. Sampling\n",
    "\n",
    "Implement the basic collapsed Gibbs sampling algorithm for Latent Dirichlet Allocation. Use the starter code and add the components that is missing (the sampler part). We use the fact that \n",
    "\n",
    "$$p(z_{i}=k)\\propto\\left(\\alpha+n_{d,k}^{(d)}\\right)\\frac{\\left(\\beta+n_{k,w_{i}}^{(w)}\\right)}{\\sum^{V}\\left(\\beta+n_{k,w_{i}}^{(w)}\\right)}=\\left(\\alpha+n_{d,k}^{(d)}\\right)\\frac{\\left(\\beta+n_{k,w_{i}}^{(w)}\\right)}{V\\beta+n_{k}}$$\n",
    "\n",
    "to simplify computations, where $K$ is the number of topics, $V$ is the vocabulary size and $D$ is the number of documents. $\\mathbf{n}^{(d)}$ is a count matrix of size $D\\times K$ with the number of topic indicators by document, $d$, and topic $k$, $\\mathbf{n}^{(w)}$ is a count matrix of size $K\\times V$ with the number of topic indicators by topic, $k$, and word type, $w$. $\\mathbf{n}$ is a topic indicator count vector of length $K$ that contain the number of topic indicators in each topic. The detailed algorithm can be found below:"
   ]
  },
  {
   "cell_type": "markdown",
   "metadata": {},
   "source": [
    "__Data:__ tokenized corpus $\\mathbf{w}$, priors $\\alpha, \\beta$ <br>\n",
    "__Result:__ topic indicators $\\mathbf{z}$\n",
    "\n",
    "Init topic indicators $\\mathbf{z}$ randomly per token<br>\n",
    "Init topic probability vector $\\mathbf{p}$<br>\n",
    "Init $\\mathbf{n}^{w}$, the topic type count matrix of size ($K \\times V$) with respect to $\\mathbf{z}$<br>\n",
    "Init $\\mathbf{n}^{d}$, the document topic count matrix of size ($D \\times K$) with respect to $\\mathbf{z}$<br>\n",
    "Init $\\mathbf{n}$, the topic count vector of length ($K$) with respect to $\\mathbf{z}$<br>\n",
    "\n",
    "for $g \\leftarrow 1$ __to__ _num_\\__iterations_ __do__<br>\n",
    "&emsp;&emsp;// Iterate over all tokens<br>\n",
    "&emsp;&emsp;for $i \\leftarrow 1$ __to__ $N$ __do__<br>\n",
    "&emsp;&emsp;&emsp;&emsp;// Remove current topic indicator $z_i$ from $\\mathbf{n}^{w}$, $\\mathbf{n}^{d}$ and $\\mathbf{n}$<br>\n",
    "&emsp;&emsp;&emsp;&emsp;$n^{(w)}_{z_i,w_i}$ -= 1, $n^{(d)}_{d_i,z_i}$ -= 1, $n_{z_i}$ -= 1<br>\n",
    "&emsp;&emsp;&emsp;&emsp;for $k \\leftarrow 1$ __to__ $K$ __do__<br>\n",
    "&emsp;&emsp;&emsp;&emsp;&emsp;&emsp;// Compute the unnormalized probability of each topic indicator<br>\n",
    "&emsp;&emsp;&emsp;&emsp;&emsp;&emsp;$\\mathbf{p}_k \\leftarrow \\left(\\alpha+n_{d,k}^{(d)}\\right)\\frac{\\left(\\beta+n_{k,w_{i}}^{(w)}\\right)}{\\left(V\\beta+n_{k}\\right)}$<br>\n",
    "&emsp;&emsp;&emsp;&emsp;__end__<br>\n",
    "&emsp;&emsp;&emsp;&emsp;// Sample the topic indicator<br>\n",
    "&emsp;&emsp;&emsp;&emsp;$z_i \\leftarrow $ Categorical($\\mathbf{p}$)<br>\n",
    "&emsp;&emsp;&emsp;&emsp;// Add the new topic indicator $z_i$ to $\\mathbf{n}^{w}$, $\\mathbf{n}^{d}$ and $\\mathbf{n}$<br>\n",
    "&emsp;&emsp;&emsp;&emsp;$n^{(w)}_{z_i,w_i}$ += 1, $n^{(d)}_{d_i,z_i}$ += 1, $n_{z_i}$ += 1<br>\n",
    "&emsp;&emsp;__end__<br>\n",
    "__end__"
   ]
  },
  {
   "cell_type": "markdown",
   "metadata": {},
   "source": [
    "For a complete derivation of the collapsed Gibbs sampler for LDA, see https://lingpipe.files.wordpress.com/2010/07/lda3.pdf."
   ]
  },
  {
   "cell_type": "code",
   "execution_count": 6,
   "metadata": {},
   "outputs": [],
   "source": [
    "import numpy, random, scipy.special\n",
    "from tm3 import LDAGibbs\n",
    "import matplotlib.pyplot as plt\n",
    "\n",
    "class MyGibbs(LDAGibbs):\n",
    "        \n",
    "    def __init__(self, num_topics, docs_file_name, stop_list_file_name = None):\n",
    "        self.num_topics = num_topics\n",
    "        self.num_docs = 0\n",
    "        self.docs = []\n",
    "        ## Prepare set of stop words\n",
    "        self.stop_words = set()\n",
    "        if stop_list_file_name != None:\n",
    "            with open(stop_list_file_name) as f:\n",
    "                for line in f:\n",
    "                    word = line.rstrip()\n",
    "                    self.stop_words.add(word)\n",
    "        self.read_documents(docs_file_name)\n",
    "        self.initialize_matrices()\n",
    "            \n",
    "    def read_documents(self, filename):\n",
    "        \"\"\"Reads documents from a file, filters stop words and initializes\n",
    "        the vocabulary. Also converts tokens to integer term IDs.\"\"\"\n",
    "        self.vocab = []\n",
    "        self.vocab_ids = {}\n",
    "        with open(filename) as f:\n",
    "            for line in f:\n",
    "                line = line.replace(\".\", \" \").replace(\",\", \" \").lower()\n",
    "                self.num_docs += 1\n",
    "                tokens = []\n",
    "                for w in line.split():\n",
    "                    if not w in self.stop_words:\n",
    "                        if w in self.vocab_ids:\n",
    "                            tokens.append(self.vocab_ids[w])\n",
    "                        else:\n",
    "                            term_id = len(self.vocab)\n",
    "                            self.vocab.append(w)\n",
    "                            self.vocab_ids[w] = term_id\n",
    "                            tokens.append(term_id)\n",
    "                self.docs.append({ 'tokens': tokens })\n",
    "        self.num_terms = len(self.vocab)\n",
    "        print(\"Read {} documents with a total of {} terms\".format(self.num_docs, self.num_terms))\n",
    "        \n",
    "    def initialize_matrices(self):\n",
    "        \"\"\"Initializes numpy arrays for the matrix computations performed\n",
    "        by the sampler during the MCMC process.\"\"\"\n",
    "        ## Set up numpy matrices\n",
    "        self.term_topics = numpy.zeros((self.num_terms, self.num_topics)) # n^w\n",
    "        self.doc_topics = numpy.zeros((self.num_docs, self.num_topics)) # n^d\n",
    "        self.topic_totals = numpy.zeros(self.num_topics) # n\n",
    "        self.doc_totals = numpy.zeros(self.num_docs)\n",
    "        self.total_tokens = 0\n",
    "        ## Initialize topics randomly\n",
    "        for doc_id in range(self.num_docs):\n",
    "            doc = self.docs[doc_id]\n",
    "            ## Create an array of random topic assignments\n",
    "            doc['topics'] = [random.randrange(self.num_topics) for token in doc['tokens']]\n",
    "            ## Construct the initial summary statistics\n",
    "            doc_length = len(doc['tokens'])\n",
    "            for token, topic in zip(doc['tokens'], doc['topics']):\n",
    "                self.term_topics[token][topic] += 1 # n_wk\n",
    "                self.doc_topics[doc_id][topic] += 1 # n_dk\n",
    "                self.topic_totals[topic] += 1       # n_k\n",
    "                self.doc_totals[doc_id] += 1\n",
    "                self.total_tokens +=1\n",
    "        ## Printout to check that everything is coherent\n",
    "        #print(sum(sum(self.doc_topics)))\n",
    "        #print(sum(sum(self.term_topics)))\n",
    "        #print(sum(self.topic_totals))\n",
    "        #print(sum(self.doc_totals))\n",
    "        \n",
    "    def run(self, num_iterations = 50, alpha = 0.1, beta = 0.01):\n",
    "        self.logprobs = []\n",
    "        for iteration in range(num_iterations): #iteration = 0\n",
    "            self.make_draw(alpha, beta)\n",
    "            logprob = self.compute_logprob(alpha, beta)\n",
    "            self.logprobs.append(logprob)\n",
    "            print(\"iteration {}, {}\".format(iteration, logprob))\n",
    "            \n",
    "    def make_draw(self, alpha, beta):\n",
    "        ## TODO: implement this function for exercise 1\n",
    "        \n",
    "        #super().make_draw(alpha, beta)\n",
    "        #return        \n",
    "        \n",
    "        for i, doc in enumerate(self.docs):\n",
    "            for j, token in enumerate(doc['tokens']):\n",
    "                z_i = self.docs[i]['topics'][j]\n",
    "                self.term_topics[token][z_i] -= 1 # n_wk\n",
    "                self.doc_topics[i][z_i] -= 1 # n_dk\n",
    "                self.topic_totals[z_i] -= 1 # n_k\n",
    "                p = [-1 for _ in range(self.num_topics)]\n",
    "                for k in range(self.num_topics):\n",
    "                    a = (alpha+self.doc_topics[i][k])\n",
    "                    b = ((beta+self.term_topics[token][k]) / (self.num_terms * beta + self.topic_totals[k]))\n",
    "                    p[k] = a*b\n",
    "                p = p/numpy.sum(p)\n",
    "                \n",
    "                z_i = numpy.random.choice(self.num_topics, size=1, replace=True, p = p)[0]\n",
    "                self.docs[i]['topics'][j] = z_i\n",
    "                self.term_topics[token][z_i] += 1 # n_wk\n",
    "                self.doc_topics[i][z_i] += 1 # n_dk\n",
    "                self.topic_totals[z_i] += 1 # n_k\n",
    "            \n",
    "    def print_topics(self, j):\n",
    "        ## TODO: implement this function for exercise 2\n",
    "        #super().print_topics(j)\n",
    "        #for topic in term_topics:\n",
    "        topics = [[] for _ in range(10)]\n",
    "\n",
    "        for term_id, topic_counts in enumerate(self.term_topics):\n",
    "            for topic_id, topic_count in enumerate(topic_counts):\n",
    "                topics[topic_id].append((topic_count, term_id))\n",
    "        \n",
    "        for topic in topics:\n",
    "            topic.sort(reverse=True)\n",
    "            for count, term_id in topic[:10]:\n",
    "                print(self.vocab[term_id], count, end=\", \")\n",
    "            print(\"\\n\")\n",
    "            \n",
    "    \n",
    "    def plot(self,alpha = 0.1, beta = 0.01):\n",
    "        ## TODO: implement this function for exercise 3\n",
    "        tolerance = 0.000001\n",
    "        \n",
    "        while True: #iteration = 0\n",
    "            self.make_draw(alpha, beta)\n",
    "            logprob = self.compute_logprob(alpha, beta)\n",
    "            self.logprobs.append(logprob)\n",
    "            super().plot()\n",
    "            print(logprob-(self.logprobs[-2]))\n",
    "            super().plot()\n",
    "            if logprob<self.logprobs[-2]+tolerance:\n",
    "                break\n",
    "        print(len(self.logprobs))\n",
    "        \n",
    "        super().plot()\n",
    "        \n",
    "    def plot_only():\n",
    "        super().plot()\n",
    "    \n",
    "    def compute_logprob(self, alpha, beta):\n",
    "        ## TODO: implement this function for the bonus exercise\n",
    "        return super().compute_logprob(alpha, beta)\n",
    "\n",
    "        "
   ]
  },
  {
   "cell_type": "markdown",
   "metadata": {},
   "source": [
    "Implement the `make_draw` function above. You should get behavior very similar to the results from calling the parent class."
   ]
  },
  {
   "cell_type": "code",
   "execution_count": 7,
   "metadata": {
    "scrolled": false
   },
   "outputs": [
    {
     "name": "stdout",
     "output_type": "stream",
     "text": [
      "Read 2899 documents with a total of 8695 terms\n",
      "iteration 0, -10.37143008335574\n",
      "iteration 1, -9.846916024889293\n",
      "iteration 2, -9.577037119839675\n",
      "iteration 3, -9.421251635276008\n",
      "iteration 4, -9.311150286494684\n",
      "iteration 5, -9.227769228656909\n",
      "iteration 6, -9.156040056016568\n",
      "iteration 7, -9.097441610441297\n",
      "iteration 8, -9.046758046160862\n",
      "iteration 9, -8.995658911486881\n"
     ]
    }
   ],
   "source": [
    "num_topics = 10\n",
    "num_iterations = 10\n",
    "\n",
    "model = MyGibbs(num_topics, 'sotu_1975_2000.txt', 'stoplist_en.txt')\n",
    "model.run(num_iterations)"
   ]
  },
  {
   "cell_type": "markdown",
   "metadata": {},
   "source": [
    "### 2. Top terms\n",
    "Implement the `print_topics` function to extract the top `j` largest counts in $n(w)$ by row. This is the most probable word types in each topic."
   ]
  },
  {
   "cell_type": "code",
   "execution_count": 8,
   "metadata": {},
   "outputs": [
    {
     "name": "stdout",
     "output_type": "stream",
     "text": [
      "tax 137.0, year 100.0, work 89.0, american 87.0, children 80.0, families 80.0, give 64.0, care 63.0, support 63.0, child 62.0, \n",
      "\n",
      "world 111.0, economic 99.0, nations 71.0, security 63.0, rights 61.0, future 55.0, nation 55.0, support 52.0, states 51.0, countries 47.0, \n",
      "\n",
      "world 189.0, america 151.0, peace 106.0, freedom 104.0, people 93.0, tonight 91.0, free 70.0, great 67.0, united 65.0, nation 58.0, \n",
      "\n",
      "people 214.0, america 128.0, americans 110.0, make 88.0, work 85.0, crime 77.0, time 76.0, security 71.0, future 70.0, congress 66.0, \n",
      "\n",
      "program 80.0, year 80.0, energy 76.0, years 76.0, administration 70.0, oil 65.0, budget 61.0, million 60.0, 1980 57.0, spending 53.0, \n",
      "\n",
      "congress 67.0, work 59.0, people 56.0, state 53.0, make 52.0, ve 48.0, future 47.0, years 46.0, government 43.0, children 42.0, \n",
      "\n",
      "programs 73.0, program 70.0, congress 66.0, system 61.0, energy 55.0, government 54.0, inflation 53.0, major 49.0, education 46.0, policy 46.0, \n",
      "\n",
      "america 98.0, health 92.0, congress 87.0, year 83.0, care 74.0, forces 70.0, work 63.0, world 55.0, nation 52.0, ve 47.0, \n",
      "\n",
      "soviet 85.0, world 80.0, people 76.0, peace 70.0, union 62.0, government 59.0, relations 57.0, country 57.0, america 54.0, states 51.0, \n",
      "\n",
      "federal 147.0, government 127.0, years 104.0, budget 77.0, year 77.0, growth 74.0, billion 73.0, time 70.0, percent 65.0, tax 62.0, \n",
      "\n"
     ]
    }
   ],
   "source": [
    "model.print_topics(10)"
   ]
  },
  {
   "cell_type": "markdown",
   "metadata": {},
   "source": [
    "### 3. Explore the data\n",
    "\n",
    "Run your implemention on the State of the Union corpus until convergence with 10 topics, don't forget to remove stop words. Plot the log marginal posterior by the number of iterations. How many iterations do you need until convergence? How do you interpret the topics?\n",
    "\n",
    "[Hint: You can use the plot-function to print the marginal probability for each iteration. To get it working in Jupyter you need to run the command `%matplotlib inline` before plotting the first time.]"
   ]
  },
  {
   "cell_type": "code",
   "execution_count": 9,
   "metadata": {},
   "outputs": [
    {
     "name": "stdout",
     "output_type": "stream",
     "text": [
      "0.04421388896492395\n",
      "0.03440997651955513\n",
      "0.04631713101542978\n",
      "0.01992818690571596\n",
      "0.03433511001341749\n",
      "0.031563014933107425\n",
      "0.018766993125209908\n",
      "0.01964779444893061\n",
      "0.01605551028500507\n",
      "0.023429040522813693\n",
      "0.01658625522123991\n",
      "0.01255439778718248\n",
      "0.01906893900033424\n",
      "0.010536151622847711\n",
      "0.01550414495393504\n",
      "0.011582583321960271\n",
      "0.012055425459125857\n",
      "0.012098764611341295\n",
      "0.009868741642073076\n",
      "0.007835798449109532\n",
      "0.014413350214617537\n",
      "-0.0006565938318434661\n",
      "32\n"
     ]
    },
    {
     "data": {
      "image/png": "[encoded data removed]",
      "text/plain": [
       "<matplotlib.figure.Figure at 0x7fc047cd1550>"
      ]
     },
     "metadata": {},
     "output_type": "display_data"
    }
   ],
   "source": [
    "%matplotlib inline\n",
    "model.plot()"
   ]
  },
  {
   "cell_type": "markdown",
   "metadata": {},
   "source": [
    "#### Answer here:\n",
    "We tried a few different methods, but lastly we chose a tolerance of 0.01 for convergence and then the process took 27 iterations."
   ]
  },
  {
   "cell_type": "markdown",
   "metadata": {},
   "source": [
    "### 4. Simulate a new State of the Union speech\n",
    "\n",
    "Write a function `new_speech` using the `MyGibbs` class to use the estimated values for $\\Phi$ from your model (with stop words removed) to simulate a new State of the Union speech. Start out by simulating $\\theta_d \\sim Dir(\\alpha = 0.5)$ and then simulate your document. Does it make sense? Why, why not?"
   ]
  },
  {
   "cell_type": "code",
   "execution_count": 153,
   "metadata": {},
   "outputs": [],
   "source": [
    "def phi(model, beta=0.01):\n",
    "    phis = numpy.zeros((model.num_topics,model.num_terms))\n",
    "    \n",
    "    for topic_id in range(model.num_topics):\n",
    "        for term_id in range(model.num_terms):\n",
    "            n_w = model.term_topics[term_id][topic_id]\n",
    "            phis[topic_id][term_id]=(n_w+beta)/(n_w+beta*model.num_terms)\n",
    "    return phis\n",
    "\n",
    "def theta(model, alpha=0.5):\n",
    "    thetas = numpy.zeros((model.num_docs,model.num_topics))\n",
    "    \n",
    "    for doc_id in range(model.num_docs):\n",
    "        for topic_id in range(model.num_topics):\n",
    "            n_d = model.doc_topics[doc_id][topic_id]\n",
    "            thetas[doc_id][topic_id]=(n_d+alpha)/(n_d+alpha*model.num_topics)\n",
    "    return thetas\n",
    "            \n",
    "def new_speech(model, alpha, num_words):\n",
    "    speech = []\n",
    "    phis = phi(model)\n",
    "    thetas = theta(model, alpha)\n",
    "    \n",
    "    for doc_id, doc in enumerate(model.docs):\n",
    "        for term_id in doc['tokens']:\n",
    "            doc_theta = thetas[doc_id]\n",
    "            new_topic = numpy.random.choice(model.num_topics, size=1, replace=True, p = doc_theta/numpy.sum(doc_theta))[0]\n",
    "            word_phi = phis[new_topic]\n",
    "            new_word = numpy.random.choice(model.num_terms, size=1, replace=True, p = word_phi/numpy.sum(word_phi))[0]\n",
    "            speech.append(model.vocab[new_word])\n",
    "            if len(speech)>=num_words:\n",
    "                break\n",
    "        if len(speech)>=num_words:\n",
    "            break\n",
    "    return \" \".join(speech)"
   ]
  },
  {
   "cell_type": "code",
   "execution_count": 154,
   "metadata": {},
   "outputs": [
    {
     "data": {
      "text/plain": [
       "'89 sides rhetoric make globalization workers financial faith sharing laws job sensitive bloc congress gifts pro shores oas great patrol defense parent propose decision emissions stop parties found wildlife communities promise roots foremost ve saps honor egypt savings experienced commitment libyan water cooperation make freedom water fragmented media invite modern narrow investments quality research abroad participate major suggested sino investment troops house average good increased care domination tall cost hall security rule rebuilding heritage industry solve rise global problems town america advantage show convention country yesterday sacred ll continues child expanding partnership people live compliance faith provide mexican tests build'"
      ]
     },
     "execution_count": 154,
     "metadata": {},
     "output_type": "execute_result"
    }
   ],
   "source": [
    "new_speech(model, 0.5, 100)"
   ]
  },
  {
   "cell_type": "markdown",
   "metadata": {},
   "source": [
    "#### Answer here:\n",
    "The text does not really make sense, especially without stopwords. You can however see some trends of words that belongs to certain topics."
   ]
  },
  {
   "cell_type": "markdown",
   "metadata": {},
   "source": [
    "### Bonus assignment:\n",
    "\n",
    "To get better understanding how to implement the underlying model or similar models, you might want to implement your own function to compute the log marginal posterior. If so, implement the `compute_logprob` function.\n",
    "\n",
    "$$\\begin{align}\n",
    "\\log p(\\mathbf{z}|\\mathbf{w}) =& \\log\\prod^{K}p(\\mathbf{w}|\\mathbf{z},\\beta)\\prod^{D}p(\\mathbf{z}|\\alpha) \\\\\n",
    "=& \\sum^{K}\\log\\left[\\frac{\\Gamma\\left(\\sum^{V}\\beta\\right)}{\\prod^{V}\\Gamma\\left(\\beta\\right)}\\frac{\\prod^{V}\\Gamma\\left(n_{kv}^{(w)}+\\beta\\right)}{\\Gamma(\\sum^{V}n_{kv}^{(w)}+\\beta)}\\right]+\\sum^{D}\\log\\left[\\frac{\\Gamma\\left(\\sum^{K}\\alpha\\right)}{\\prod^{K}\\Gamma\\left(\\alpha\\right)}\\frac{\\prod^{K}\\Gamma\\left(n_{dk}^{(d)}+\\alpha\\right)}{\\Gamma(\\sum^{K}n_{dk}^{(d)}+\\alpha)}\\right] \\\\\n",
    "=& K\\log\\Gamma\\left(V\\beta\\right)-KV\\log\\Gamma\\left(\\beta\\right)+\\sum^{K}\\sum^{V}\\log\\Gamma\\left(n_{kv}^{(w)}+\\beta\\right)-\\sum^{K}\\log\\Gamma(\\sum^{V}n_{kv}^{(w)}+\\beta)\\\\\n",
    "&+ D\\log\\Gamma\\left(K\\alpha\\right)-DK\\log\\Gamma\\left(\\alpha\\right)+\\sum^{D}\\sum^{K}\\log\\Gamma\\left(n_{dk}^{(d)}+\\alpha\\right)-\\sum^{D}\\log\\Gamma(\\sum^{K}n_{dk}^{(d)}+\\alpha)\n",
    "\\end{align}$$\n",
    "\n",
    "In Python, use `scipy.special.gammaln` for $\\log\\Gamma(x)$ (if you run into problems, you might try `math.lgamma` instead)."
   ]
  },
  {
   "cell_type": "code",
   "execution_count": null,
   "metadata": {},
   "outputs": [],
   "source": []
  }
 ],
 "metadata": {
  "kernelspec": {
   "display_name": "Python 3",
   "language": "python",
   "name": "python3"
  },
  "language_info": {
   "codemirror_mode": {
    "name": "ipython",
    "version": 3
   },
   "file_extension": ".py",
   "mimetype": "text/x-python",
   "name": "python",
   "nbconvert_exporter": "python",
   "pygments_lexer": "ipython3",
   "version": "3.4.3"
  },
  "latex_envs": {
   "bibliofile": "biblio.bib",
   "cite_by": "apalike",
   "current_citInitial": 1,
   "eqLabelWithNumbers": true,
   "eqNumInitial": 0
  }
 },
 "nbformat": 4,
 "nbformat_minor": 2
}

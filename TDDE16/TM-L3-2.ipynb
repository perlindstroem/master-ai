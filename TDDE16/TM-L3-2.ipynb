{
 "cells": [
  {
   "cell_type": "markdown",
   "metadata": {},
   "source": [
    "# L3: Topic Models\n",
    "### 732A92/TDDE16 Text Mining\n",
    "Måns Magnusson"
   ]
  },
  {
   "cell_type": "markdown",
   "metadata": {},
   "source": [
    "The purpose of this lab is to implement the standard Gibbs sampling algorithm for Latent Dirichlet Allocation in Python. You will be supplied starter code, a smaller corpus with State of the Union addresses for the period 1975 to 2000 by paragraph and a list with English stop words. The code is implemented as a class, `LDAGibbs`, where you are expected to replace central parts of the code with your own implementations."
   ]
  },
  {
   "cell_type": "markdown",
   "metadata": {},
   "source": [
    "### 1. Sampling\n",
    "\n",
    "Implement the basic collapsed Gibbs sampling algorithm for Latent Dirichlet Allocation. Use the starter code and add the components that is missing (the sampler part). We use the fact that \n",
    "\n",
    "$$p(z_{i}=k)\\propto\\left(\\alpha+n_{d,k}^{(d)}\\right)\\frac{\\left(\\beta+n_{k,w_{i}}^{(w)}\\right)}{\\sum^{V}\\left(\\beta+n_{k,w_{i}}^{(w)}\\right)}=\\left(\\alpha+n_{d,k}^{(d)}\\right)\\frac{\\left(\\beta+n_{k,w_{i}}^{(w)}\\right)}{V\\beta+n_{k}}$$\n",
    "\n",
    "to simplify computations, where $K$ is the number of topics, $V$ is the vocabulary size and $D$ is the number of documents. $\\mathbf{n}^{(d)}$ is a count matrix of size $D\\times K$ with the number of topic indicators by document, $d$, and topic $k$, $\\mathbf{n}^{(w)}$ is a count matrix of size $K\\times V$ with the number of topic indicators by topic, $k$, and word type, $w$. $\\mathbf{n}$ is a topic indicator count vector of length $K$ that contain the number of topic indicators in each topic. The detailed algorithm can be found below:"
   ]
  },
  {
   "cell_type": "markdown",
   "metadata": {},
   "source": [
    "__Data:__ tokenized corpus $\\mathbf{w}$, priors $\\alpha, \\beta$ <br>\n",
    "__Result:__ topic indicators $\\mathbf{z}$\n",
    "\n",
    "Init topic indicators $\\mathbf{z}$ randomly per token<br>\n",
    "Init topic probability vector $\\mathbf{p}$<br>\n",
    "Init $\\mathbf{n}^{w}$, the topic type count matrix of size ($K \\times V$) with respect to $\\mathbf{z}$<br>\n",
    "Init $\\mathbf{n}^{d}$, the document topic count matrix of size ($D \\times K$) with respect to $\\mathbf{z}$<br>\n",
    "Init $\\mathbf{n}$, the topic count vector of length ($K$) with respect to $\\mathbf{z}$<br>\n",
    "\n",
    "for $g \\leftarrow 1$ __to__ _num_\\__iterations_ __do__<br>\n",
    "&emsp;&emsp;// Iterate over all tokens<br>\n",
    "&emsp;&emsp;for $i \\leftarrow 1$ __to__ $N$ __do__<br>\n",
    "&emsp;&emsp;&emsp;&emsp;// Remove current topic indicator $z_i$ from $\\mathbf{n}^{w}$, $\\mathbf{n}^{d}$ and $\\mathbf{n}$<br>\n",
    "&emsp;&emsp;&emsp;&emsp;$n^{(w)}_{z_i,w_i}$ -= 1, $n^{(d)}_{d_i,z_i}$ -= 1, $n_{z_i}$ -= 1<br>\n",
    "&emsp;&emsp;&emsp;&emsp;for $k \\leftarrow 1$ __to__ $K$ __do__<br>\n",
    "&emsp;&emsp;&emsp;&emsp;&emsp;&emsp;// Compute the unnormalized probability of each topic indicator<br>\n",
    "&emsp;&emsp;&emsp;&emsp;&emsp;&emsp;$\\mathbf{p}_k \\leftarrow \\left(\\alpha+n_{d,k}^{(d)}\\right)\\frac{\\left(\\beta+n_{k,w_{i}}^{(w)}\\right)}{\\left(V\\beta+n_{k}\\right)}$<br>\n",
    "&emsp;&emsp;&emsp;&emsp;__end__<br>\n",
    "&emsp;&emsp;&emsp;&emsp;// Sample the topic indicator<br>\n",
    "&emsp;&emsp;&emsp;&emsp;$z_i \\leftarrow $ Categorical($\\mathbf{p}$)<br>\n",
    "&emsp;&emsp;&emsp;&emsp;// Add the new topic indicator $z_i$ to $\\mathbf{n}^{w}$, $\\mathbf{n}^{d}$ and $\\mathbf{n}$<br>\n",
    "&emsp;&emsp;&emsp;&emsp;$n^{(w)}_{z_i,w_i}$ += 1, $n^{(d)}_{d_i,z_i}$ += 1, $n_{z_i}$ += 1<br>\n",
    "&emsp;&emsp;__end__<br>\n",
    "__end__"
   ]
  },
  {
   "cell_type": "markdown",
   "metadata": {},
   "source": [
    "For a complete derivation of the collapsed Gibbs sampler for LDA, see https://lingpipe.files.wordpress.com/2010/07/lda3.pdf."
   ]
  },
  {
   "cell_type": "code",
   "execution_count": 18,
   "metadata": {},
   "outputs": [],
   "source": [
    "import numpy, random, scipy.special\n",
    "from tm3 import LDAGibbs\n",
    "import matplotlib.pyplot as plt\n",
    "\n",
    "class MyGibbs(LDAGibbs):\n",
    "        \n",
    "    def __init__(self, num_topics, docs_file_name, stop_list_file_name = None):\n",
    "        self.num_topics = num_topics\n",
    "        self.num_docs = 0\n",
    "        self.docs = []\n",
    "        self.logprobs = []\n",
    "        ## Prepare set of stop words\n",
    "        self.stop_words = set()\n",
    "        if stop_list_file_name != None:\n",
    "            with open(stop_list_file_name) as f:\n",
    "                for line in f:\n",
    "                    word = line.rstrip()\n",
    "                    self.stop_words.add(word)\n",
    "        self.read_documents(docs_file_name)\n",
    "        self.initialize_matrices()\n",
    "            \n",
    "    def read_documents(self, filename):\n",
    "        \"\"\"Reads documents from a file, filters stop words and initializes\n",
    "        the vocabulary. Also converts tokens to integer term IDs.\"\"\"\n",
    "        self.vocab = []\n",
    "        self.vocab_ids = {}\n",
    "        with open(filename) as f:\n",
    "            for line in f:\n",
    "                line = line.replace(\".\", \" \").replace(\",\", \" \").lower()\n",
    "                self.num_docs += 1\n",
    "                tokens = []\n",
    "                for w in line.split():\n",
    "                    if not w in self.stop_words:\n",
    "                        if w in self.vocab_ids:\n",
    "                            tokens.append(self.vocab_ids[w])\n",
    "                        else:\n",
    "                            term_id = len(self.vocab)\n",
    "                            self.vocab.append(w)\n",
    "                            self.vocab_ids[w] = term_id\n",
    "                            tokens.append(term_id)\n",
    "                self.docs.append({ 'tokens': tokens })\n",
    "        self.num_terms = len(self.vocab)\n",
    "        print(\"Read {} documents with a total of {} terms\".format(self.num_docs, self.num_terms))\n",
    "        \n",
    "    def initialize_matrices(self):\n",
    "        \"\"\"Initializes numpy arrays for the matrix computations performed\n",
    "        by the sampler during the MCMC process.\"\"\"\n",
    "        ## Set up numpy matrices\n",
    "        self.term_topics = numpy.zeros((self.num_terms, self.num_topics)) # n^w\n",
    "        self.doc_topics = numpy.zeros((self.num_docs, self.num_topics)) # n^d\n",
    "        self.topic_totals = numpy.zeros(self.num_topics) # n\n",
    "        self.doc_totals = numpy.zeros(self.num_docs)\n",
    "        self.total_tokens = 0\n",
    "        ## Initialize topics randomly\n",
    "        for doc_id in range(self.num_docs):\n",
    "            doc = self.docs[doc_id]\n",
    "            ## Create an array of random topic assignments\n",
    "            doc['topics'] = [random.randrange(self.num_topics) for token in doc['tokens']]\n",
    "            ## Construct the initial summary statistics\n",
    "            doc_length = len(doc['tokens'])\n",
    "            for token, topic in zip(doc['tokens'], doc['topics']):\n",
    "                self.term_topics[token][topic] += 1 # n_wk\n",
    "                self.doc_topics[doc_id][topic] += 1 # n_dk\n",
    "                self.topic_totals[topic] += 1       # n_k\n",
    "                self.doc_totals[doc_id] += 1\n",
    "                self.total_tokens +=1\n",
    "        ## Printout to check that everything is coherent\n",
    "        #print(sum(sum(self.doc_topics)))\n",
    "        #print(sum(sum(self.term_topics)))\n",
    "        #print(sum(self.topic_totals))\n",
    "        #print(sum(self.doc_totals))\n",
    "        \n",
    "    def run(self, num_iterations = 50, alpha = 0.1, beta = 0.01):\n",
    "        for iteration in range(num_iterations): #iteration = 0\n",
    "            self.make_draw(alpha, beta)\n",
    "            logprob = self.compute_logprob(alpha, beta)\n",
    "            self.logprobs.append(logprob)\n",
    "            print(\"iteration {}, {}\".format(iteration, logprob))\n",
    "            \n",
    "    def make_draw(self, alpha, beta):\n",
    "        ## TODO: implement this function for exercise 1\n",
    "        \n",
    "        #super().make_draw(alpha, beta)\n",
    "        #return        \n",
    "        \n",
    "        for i, doc in enumerate(self.docs):\n",
    "            for j, token in enumerate(doc['tokens']):\n",
    "                z_i = self.docs[i]['topics'][j]\n",
    "                self.term_topics[token][z_i] -= 1 # n_wk\n",
    "                self.doc_topics[i][z_i] -= 1 # n_dk\n",
    "                self.topic_totals[z_i] -= 1 # n_k\n",
    "                p = [-1 for _ in range(self.num_topics)]\n",
    "                for k in range(self.num_topics):\n",
    "                    a = (alpha+self.doc_topics[i][k])\n",
    "                    b = ((beta+self.term_topics[token][k]) / (self.num_terms * beta + self.topic_totals[k]))\n",
    "                    p[k] = a*b\n",
    "                p = p/numpy.sum(p)\n",
    "                \n",
    "                z_i = numpy.random.choice(self.num_topics, size=1, replace=True, p = p)[0]\n",
    "                self.docs[i]['topics'][j] = z_i\n",
    "                self.term_topics[token][z_i] += 1 # n_wk\n",
    "                self.doc_topics[i][z_i] += 1 # n_dk\n",
    "                self.topic_totals[z_i] += 1 # n_k\n",
    "            \n",
    "    def print_topics(self, j):\n",
    "        ## TODO: implement this function for exercise 2\n",
    "        #super().print_topics(j)\n",
    "        #for topic in term_topics:\n",
    "        topics = [[] for _ in range(10)]\n",
    "\n",
    "        for term_id, topic_counts in enumerate(self.term_topics):\n",
    "            for topic_id, topic_count in enumerate(topic_counts):\n",
    "                topics[topic_id].append((topic_count, term_id))\n",
    "        \n",
    "        for topic in topics:\n",
    "            topic.sort(reverse=True)\n",
    "            for count, term_id in topic[:10]:\n",
    "                print(self.vocab[term_id], count, end=\", \")\n",
    "            print(\"\\n\")\n",
    "            \n",
    "    \n",
    "    def plot(self,alpha = 0.1, beta = 0.01):\n",
    "        ## TODO: implement this function for exercise 3\n",
    "        tolerance = 0.000001\n",
    "        \n",
    "        while True: #iteration = 0\n",
    "            self.make_draw(alpha, beta)\n",
    "            logprob = self.compute_logprob(alpha, beta)\n",
    "            self.logprobs.append(logprob)\n",
    "            super().plot()\n",
    "            print(logprob-(self.logprobs[-2]))\n",
    "            super().plot()\n",
    "            if logprob<self.logprobs[-2]+tolerance:\n",
    "                break\n",
    "        print(len(self.logprobs))\n",
    "        \n",
    "        super().plot()\n",
    "        \n",
    "    def plot_only(self):\n",
    "        super().plot()\n",
    "    \n",
    "    def compute_logprob(self, alpha, beta):\n",
    "        ## TODO: implement this function for the bonus exercise\n",
    "        return super().compute_logprob(alpha, beta)\n",
    "\n",
    "        "
   ]
  },
  {
   "cell_type": "markdown",
   "metadata": {},
   "source": [
    "Implement the `make_draw` function above. You should get behavior very similar to the results from calling the parent class."
   ]
  },
  {
   "cell_type": "code",
   "execution_count": 19,
   "metadata": {
    "scrolled": false
   },
   "outputs": [
    {
     "name": "stdout",
     "output_type": "stream",
     "text": [
      "Read 2899 documents with a total of 8695 terms\n",
      "iteration 0, -10.361370631641341\n",
      "iteration 1, -9.836245275741817\n",
      "iteration 2, -9.565581578353855\n",
      "iteration 3, -9.395588973412533\n",
      "iteration 4, -9.285586294415753\n",
      "iteration 5, -9.200216563176452\n",
      "iteration 6, -9.132819153044078\n",
      "iteration 7, -9.06924908696696\n",
      "iteration 8, -9.016996521399637\n",
      "iteration 9, -8.967035953280924\n"
     ]
    }
   ],
   "source": [
    "num_topics = 10\n",
    "num_iterations = 10\n",
    "\n",
    "model = MyGibbs(num_topics, 'sotu_1975_2000.txt', 'stoplist_en.txt')\n",
    "model.run(num_iterations)"
   ]
  },
  {
   "cell_type": "markdown",
   "metadata": {},
   "source": [
    "### 2. Top terms\n",
    "Implement the `print_topics` function to extract the top `j` largest counts in $n(w)$ by row. This is the most probable word types in each topic."
   ]
  },
  {
   "cell_type": "code",
   "execution_count": 20,
   "metadata": {},
   "outputs": [
    {
     "name": "stdout",
     "output_type": "stream",
     "text": [
      "america 131.0, world 94.0, people 83.0, ve 61.0, years 58.0, nuclear 56.0, god 55.0, good 53.0, freedom 48.0, children 40.0, \n",
      "\n",
      "america 147.0, congress 88.0, president 79.0, americans 70.0, security 63.0, make 59.0, century 56.0, mr 56.0, tonight 53.0, country 50.0, \n",
      "\n",
      "america 112.0, children 102.0, work 79.0, country 73.0, year 73.0, school 72.0, time 71.0, people 70.0, economy 62.0, make 62.0, \n",
      "\n",
      "year 193.0, people 122.0, budget 117.0, years 103.0, care 96.0, congress 92.0, health 86.0, work 80.0, children 74.0, million 74.0, \n",
      "\n",
      "soviet 78.0, countries 62.0, europe 53.0, economic 52.0, administration 49.0, united 44.0, world 43.0, responsibility 42.0, support 41.0, states 38.0, \n",
      "\n",
      "world 101.0, forces 98.0, security 79.0, peace 76.0, people 75.0, women 62.0, freedom 61.0, nations 56.0, system 54.0, support 53.0, \n",
      "\n",
      "american 110.0, america 94.0, world 87.0, americans 68.0, people 57.0, nation 57.0, act 49.0, freedom 48.0, great 41.0, day 39.0, \n",
      "\n",
      "congress 111.0, administration 87.0, programs 76.0, policy 66.0, problems 60.0, people 60.0, program 53.0, american 49.0, time 48.0, major 47.0, \n",
      "\n",
      "energy 169.0, world 125.0, states 103.0, trade 87.0, international 86.0, peace 85.0, nation 73.0, united 68.0, oil 65.0, economic 64.0, \n",
      "\n",
      "tax 148.0, federal 147.0, government 139.0, budget 108.0, year 106.0, growth 99.0, percent 92.0, inflation 89.0, spending 87.0, years 84.0, \n",
      "\n"
     ]
    }
   ],
   "source": [
    "model.print_topics(10)"
   ]
  },
  {
   "cell_type": "markdown",
   "metadata": {},
   "source": [
    "### 3. Explore the data\n",
    "\n",
    "Run your implemention on the State of the Union corpus until convergence with 10 topics, don't forget to remove stop words. Plot the log marginal posterior by the number of iterations. How many iterations do you need until convergence? How do you interpret the topics?\n",
    "\n",
    "[Hint: You can use the plot-function to print the marginal probability for each iteration. To get it working in Jupyter you need to run the command `%matplotlib inline` before plotting the first time.]"
   ]
  },
  {
   "cell_type": "code",
   "execution_count": 21,
   "metadata": {},
   "outputs": [
    {
     "name": "stdout",
     "output_type": "stream",
     "text": [
      "0.042464906810488756\n",
      "0.029063656009167715\n",
      "0.03557621926455745\n",
      "0.028602978067750584\n",
      "0.023497775504715435\n",
      "0.026281622716680886\n",
      "0.02152810576124331\n",
      "0.02140720037240662\n",
      "0.021074719888172666\n",
      "0.013639429559324512\n",
      "0.01810905900750548\n",
      "0.010099102671230042\n",
      "0.014506846844231092\n",
      "0.01405237178064489\n",
      "0.01470419320555827\n",
      "0.01155443860249683\n",
      "0.010724089212780896\n",
      "0.01394745617932358\n",
      "0.01245303279818799\n",
      "0.007739395336328059\n",
      "0.00746245447730054\n",
      "0.010913186557301557\n",
      "0.008707102701590586\n",
      "0.006079023119900384\n",
      "0.011589436037166223\n",
      "0.0069678463454341255\n",
      "0.006402644832196103\n",
      "0.007482513947325131\n",
      "0.0012235867474092998\n",
      "0.002716077516547344\n",
      "-0.004131120099389207\n",
      "41\n"
     ]
    },
    {
     "data": {
      "image/png": "[encoded data removed]",
      "text/plain": [
       "<matplotlib.figure.Figure at 0x7fc0482fbeb8>"
      ]
     },
     "metadata": {},
     "output_type": "display_data"
    }
   ],
   "source": [
    "%matplotlib inline\n",
    "model.plot()"
   ]
  },
  {
   "cell_type": "code",
   "execution_count": 24,
   "metadata": {
    "scrolled": true
   },
   "outputs": [
    {
     "name": "stdout",
     "output_type": "stream",
     "text": [
      "iteration 0, -8.340027605471025\n",
      "iteration 1, -8.337200632592868\n",
      "iteration 2, -8.343988058739924\n",
      "iteration 3, -8.341556839345026\n",
      "iteration 4, -8.342388678207284\n",
      "iteration 5, -8.340598833782767\n",
      "iteration 6, -8.337000270295682\n",
      "iteration 7, -8.338811822950802\n",
      "iteration 8, -8.342446307812933\n",
      "iteration 9, -8.335846557399536\n",
      "iteration 10, -8.339844132433937\n",
      "iteration 11, -8.338881534057823\n",
      "iteration 12, -8.338379868783518\n",
      "iteration 13, -8.341690650180055\n",
      "iteration 14, -8.342056252671652\n",
      "iteration 15, -8.338022496182985\n",
      "iteration 16, -8.33537534663882\n",
      "iteration 17, -8.332739014423934\n",
      "iteration 18, -8.337952715815254\n",
      "iteration 19, -8.328606371613752\n",
      "iteration 20, -8.333677105920508\n",
      "iteration 21, -8.333516010822132\n",
      "iteration 22, -8.33280613087953\n",
      "iteration 23, -8.33504566075201\n",
      "iteration 24, -8.33679628775986\n",
      "iteration 25, -8.330927858398233\n",
      "iteration 26, -8.328105880480914\n",
      "iteration 27, -8.325846689926076\n",
      "iteration 28, -8.330031560522022\n",
      "iteration 29, -8.330352391790672\n",
      "iteration 30, -8.332165734251724\n",
      "iteration 31, -8.33117220269369\n",
      "iteration 32, -8.33113797667352\n",
      "iteration 33, -8.330950231960434\n",
      "iteration 34, -8.332120587153648\n",
      "iteration 35, -8.334546062597903\n",
      "iteration 36, -8.331386750105644\n",
      "iteration 37, -8.33210508053391\n",
      "iteration 38, -8.334087906537256\n",
      "iteration 39, -8.329191562769543\n",
      "iteration 40, -8.332771854585497\n",
      "iteration 41, -8.332996877979387\n",
      "iteration 42, -8.325540518267333\n",
      "iteration 43, -8.33042290643185\n",
      "iteration 44, -8.328149999855388\n",
      "iteration 45, -8.32625688054708\n",
      "iteration 46, -8.326888171100459\n",
      "iteration 47, -8.324213804925444\n",
      "iteration 48, -8.323284318275322\n",
      "iteration 49, -8.327162864331752\n",
      "191\n"
     ]
    },
    {
     "data": {
      "image/png": "[encoded data removed]",
      "text/plain": [
       "<matplotlib.figure.Figure at 0x7fc047f317b8>"
      ]
     },
     "metadata": {},
     "output_type": "display_data"
    }
   ],
   "source": [
    "model.run(50)\n",
    "print(len(model.logprobs))\n",
    "model.plot_only()"
   ]
  },
  {
   "cell_type": "code",
   "execution_count": 25,
   "metadata": {},
   "outputs": [
    {
     "name": "stdout",
     "output_type": "stream",
     "text": [
      "america 275.0, people 185.0, world 166.0, freedom 119.0, american 119.0, nation 118.0, years 107.0, americans 93.0, country 88.0, state 82.0, \n",
      "\n",
      "congress 126.0, president 109.0, crime 98.0, house 71.0, tonight 60.0, mr 60.0, citizens 47.0, members 46.0, speaker 46.0, law 42.0, \n",
      "\n",
      "children 223.0, people 119.0, work 115.0, education 103.0, schools 96.0, make 93.0, school 87.0, america 75.0, family 75.0, parents 69.0, \n",
      "\n",
      "health 216.0, care 176.0, welfare 139.0, work 128.0, year 122.0, people 120.0, security 108.0, americans 107.0, social 99.0, families 85.0, \n",
      "\n",
      "united 111.0, states 107.0, europe 63.0, east 55.0, relations 52.0, country 51.0, efforts 50.0, economic 50.0, support 49.0, political 47.0, \n",
      "\n",
      "security 144.0, world 144.0, peace 130.0, soviet 122.0, forces 115.0, nuclear 111.0, defense 105.0, military 105.0, war 84.0, strategic 71.0, \n",
      "\n",
      "america 193.0, century 126.0, people 101.0, future 86.0, government 80.0, economy 71.0, american 70.0, opportunity 69.0, world 68.0, 21st 66.0, \n",
      "\n",
      "federal 182.0, congress 180.0, administration 175.0, government 134.0, programs 133.0, program 101.0, legislation 80.0, act 68.0, policy 60.0, states 60.0, \n",
      "\n",
      "energy 170.0, world 136.0, trade 116.0, nations 91.0, oil 85.0, economic 80.0, international 78.0, states 77.0, foreign 70.0, policy 68.0, \n",
      "\n",
      "years 203.0, year 189.0, budget 183.0, tax 178.0, percent 150.0, government 139.0, billion 139.0, spending 135.0, federal 131.0, growth 122.0, \n",
      "\n"
     ]
    }
   ],
   "source": [
    "model.print_topics(10)"
   ]
  },
  {
   "cell_type": "markdown",
   "metadata": {},
   "source": [
    "#### Answer here:\n",
    "We ran the make_draw() for 191 iterations. After around 100 iterations its hard to see any improvement on the log probabilities fo the model. We can see that the topics has changed a bit since looking at them after 10 iterations.\n",
    "The topics seems to treat nationalism, education, congress, foreign relations, administration/legislation, trade and budget/taxation."
   ]
  },
  {
   "cell_type": "markdown",
   "metadata": {},
   "source": [
    "### 4. Simulate a new State of the Union speech\n",
    "\n",
    "Write a function `new_speech` using the `MyGibbs` class to use the estimated values for $\\Phi$ from your model (with stop words removed) to simulate a new State of the Union speech. Start out by simulating $\\theta_d \\sim Dir(\\alpha = 0.5)$ and then simulate your document. Does it make sense? Why, why not?"
   ]
  },
  {
   "cell_type": "code",
   "execution_count": 153,
   "metadata": {},
   "outputs": [],
   "source": [
    "def phi(model, beta=0.01):\n",
    "    phis = numpy.zeros((model.num_topics,model.num_terms))\n",
    "    \n",
    "    for topic_id in range(model.num_topics):\n",
    "        for term_id in range(model.num_terms):\n",
    "            n_w = model.term_topics[term_id][topic_id]\n",
    "            phis[topic_id][term_id]=(n_w+beta)/(n_w+beta*model.num_terms)\n",
    "    return phis\n",
    "\n",
    "def theta(model, alpha=0.5):\n",
    "    thetas = numpy.zeros((model.num_docs,model.num_topics))\n",
    "    \n",
    "    for doc_id in range(model.num_docs):\n",
    "        for topic_id in range(model.num_topics):\n",
    "            n_d = model.doc_topics[doc_id][topic_id]\n",
    "            thetas[doc_id][topic_id]=(n_d+alpha)/(n_d+alpha*model.num_topics)\n",
    "    return thetas\n",
    "            \n",
    "def new_speech(model, alpha, num_words):\n",
    "    speech = []\n",
    "    phis = phi(model)\n",
    "    thetas = theta(model, alpha)\n",
    "    \n",
    "    for doc_id, doc in enumerate(model.docs):\n",
    "        for term_id in doc['tokens']:\n",
    "            doc_theta = thetas[doc_id]\n",
    "            new_topic = numpy.random.choice(model.num_topics, size=1, replace=True, p = doc_theta/numpy.sum(doc_theta))[0]\n",
    "            word_phi = phis[new_topic]\n",
    "            new_word = numpy.random.choice(model.num_terms, size=1, replace=True, p = word_phi/numpy.sum(word_phi))[0]\n",
    "            speech.append(model.vocab[new_word])\n",
    "            if len(speech)>=num_words:\n",
    "                break\n",
    "        if len(speech)>=num_words:\n",
    "            break\n",
    "    return \" \".join(speech)"
   ]
  },
  {
   "cell_type": "code",
   "execution_count": 154,
   "metadata": {},
   "outputs": [
    {
     "data": {
      "text/plain": [
       "'89 sides rhetoric make globalization workers financial faith sharing laws job sensitive bloc congress gifts pro shores oas great patrol defense parent propose decision emissions stop parties found wildlife communities promise roots foremost ve saps honor egypt savings experienced commitment libyan water cooperation make freedom water fragmented media invite modern narrow investments quality research abroad participate major suggested sino investment troops house average good increased care domination tall cost hall security rule rebuilding heritage industry solve rise global problems town america advantage show convention country yesterday sacred ll continues child expanding partnership people live compliance faith provide mexican tests build'"
      ]
     },
     "execution_count": 154,
     "metadata": {},
     "output_type": "execute_result"
    }
   ],
   "source": [
    "new_speech(model, 0.5, 100)"
   ]
  },
  {
   "cell_type": "markdown",
   "metadata": {},
   "source": [
    "#### Answer here:\n",
    "The text does not really make sense, especially without stopwords. You can however see some trends of words that belongs to certain topics."
   ]
  },
  {
   "cell_type": "markdown",
   "metadata": {},
   "source": [
    "### Bonus assignment:\n",
    "\n",
    "To get better understanding how to implement the underlying model or similar models, you might want to implement your own function to compute the log marginal posterior. If so, implement the `compute_logprob` function.\n",
    "\n",
    "$$\\begin{align}\n",
    "\\log p(\\mathbf{z}|\\mathbf{w}) =& \\log\\prod^{K}p(\\mathbf{w}|\\mathbf{z},\\beta)\\prod^{D}p(\\mathbf{z}|\\alpha) \\\\\n",
    "=& \\sum^{K}\\log\\left[\\frac{\\Gamma\\left(\\sum^{V}\\beta\\right)}{\\prod^{V}\\Gamma\\left(\\beta\\right)}\\frac{\\prod^{V}\\Gamma\\left(n_{kv}^{(w)}+\\beta\\right)}{\\Gamma(\\sum^{V}n_{kv}^{(w)}+\\beta)}\\right]+\\sum^{D}\\log\\left[\\frac{\\Gamma\\left(\\sum^{K}\\alpha\\right)}{\\prod^{K}\\Gamma\\left(\\alpha\\right)}\\frac{\\prod^{K}\\Gamma\\left(n_{dk}^{(d)}+\\alpha\\right)}{\\Gamma(\\sum^{K}n_{dk}^{(d)}+\\alpha)}\\right] \\\\\n",
    "=& K\\log\\Gamma\\left(V\\beta\\right)-KV\\log\\Gamma\\left(\\beta\\right)+\\sum^{K}\\sum^{V}\\log\\Gamma\\left(n_{kv}^{(w)}+\\beta\\right)-\\sum^{K}\\log\\Gamma(\\sum^{V}n_{kv}^{(w)}+\\beta)\\\\\n",
    "&+ D\\log\\Gamma\\left(K\\alpha\\right)-DK\\log\\Gamma\\left(\\alpha\\right)+\\sum^{D}\\sum^{K}\\log\\Gamma\\left(n_{dk}^{(d)}+\\alpha\\right)-\\sum^{D}\\log\\Gamma(\\sum^{K}n_{dk}^{(d)}+\\alpha)\n",
    "\\end{align}$$\n",
    "\n",
    "In Python, use `scipy.special.gammaln` for $\\log\\Gamma(x)$ (if you run into problems, you might try `math.lgamma` instead)."
   ]
  },
  {
   "cell_type": "code",
   "execution_count": null,
   "metadata": {},
   "outputs": [],
   "source": []
  }
 ],
 "metadata": {
  "kernelspec": {
   "display_name": "Python 3",
   "language": "python",
   "name": "python3"
  },
  "language_info": {
   "codemirror_mode": {
    "name": "ipython",
    "version": 3
   },
   "file_extension": ".py",
   "mimetype": "text/x-python",
   "name": "python",
   "nbconvert_exporter": "python",
   "pygments_lexer": "ipython3",
   "version": "3.4.3"
  },
  "latex_envs": {
   "bibliofile": "biblio.bib",
   "cite_by": "apalike",
   "current_citInitial": 1,
   "eqLabelWithNumbers": true,
   "eqNumInitial": 0
  }
 },
 "nbformat": 4,
 "nbformat_minor": 2
}
